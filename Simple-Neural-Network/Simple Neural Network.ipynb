{
 "cells": [
  {
   "cell_type": "markdown",
   "metadata": {},
   "source": [
    "# Simple Neural Network:\n",
    "In this notebook, a fully vectorized 2-layer neural network will be implemented from scratch.   \n",
    "This will 'learn' the XOR gate."
   ]
  },
  {
   "cell_type": "code",
   "execution_count": 54,
   "metadata": {},
   "outputs": [],
   "source": [
    "# IMPORTS:\n",
    "%matplotlib inline\n",
    "from matplotlib import pyplot as plt\n",
    "import numpy as np\n",
    "import math"
   ]
  },
  {
   "cell_type": "code",
   "execution_count": 55,
   "metadata": {},
   "outputs": [],
   "source": [
    "# DATA: The XOR truth table.\n",
    "inputs = np.array([[0,0],[0,1],[1,0],[1,1]])\n",
    "expected_output = np.array([[0],[1],[1],[0]])"
   ]
  },
  {
   "cell_type": "code",
   "execution_count": 56,
   "metadata": {},
   "outputs": [],
   "source": [
    "# ARCHITECTURE:\n",
    "n0 = 2\n",
    "n1 = 2\n",
    "n2 = 1\n",
    "m = 4"
   ]
  },
  {
   "cell_type": "code",
   "execution_count": 57,
   "metadata": {},
   "outputs": [],
   "source": [
    "# INPUTS & OUTPUTS:\n",
    "A0 = inputs.T # Each datapoint is a column.\n",
    "Y = expected_output.T # Converted to row vector"
   ]
  },
  {
   "cell_type": "code",
   "execution_count": 58,
   "metadata": {},
   "outputs": [],
   "source": [
    "# WEIGHTS: \n",
    "W1 = np.random.uniform(size = (n1, n0))\n",
    "W2 = np.random.uniform(size = (n2, n1))\n",
    "\n",
    "# BIASES: \n",
    "# Gets added to each column, although mathematically, W*A and b aren't of the same order. Python broadcasting helps us here.\n",
    "b1 = np.random.uniform(size = (n1, 1))\n",
    "b2 = np.random.uniform(size = (n2, 1))"
   ]
  },
  {
   "cell_type": "code",
   "execution_count": 59,
   "metadata": {},
   "outputs": [],
   "source": [
    "# SIGMOID ACTIVATION FUNCTION:\n",
    "def sigmoid (z):\n",
    "    return 1/(1 + np.exp(-z))\n",
    "\n",
    "def sigmoidDerivative(z):\n",
    "    return sigmoid(z)*(1 - sigmoid(z))"
   ]
  },
  {
   "cell_type": "code",
   "execution_count": 60,
   "metadata": {},
   "outputs": [],
   "source": [
    "def cost(Y_hat, Y):\n",
    "    L = -(1./m) * ( np.sum( np.multiply(np.log(Y_hat),Y) ) + np.sum( np.multiply(np.log(1-Y_hat),(1-Y)) ) )\n",
    "    return L"
   ]
  },
  {
   "cell_type": "code",
   "execution_count": 61,
   "metadata": {},
   "outputs": [],
   "source": [
    "# GRADIENT DESCENT PARAMETERS:\n",
    "alpha = 1 # Learning rate.\n",
    "N_ITERS = 1500 # Total iterations."
   ]
  },
  {
   "cell_type": "code",
   "execution_count": 62,
   "metadata": {},
   "outputs": [],
   "source": [
    "costList = []\n",
    "for _ in range(N_ITERS):\n",
    "    \n",
    "    # FORWARD-PROPOGATION:\n",
    "    Z1 = np.matmul(W1,A0) + b1\n",
    "    A1 = sigmoid(Z1)\n",
    "    \n",
    "    Z2 = np.matmul(W2,A1) + b2\n",
    "    A2 = sigmoid(Z2)\n",
    "    Y_hat = A2 # The prediction for all datapoints.\n",
    "    \n",
    "    # FINDING OUT THE COST:\n",
    "    costList.append(cost(Y_hat, Y))\n",
    "\n",
    "    # BACKWARD-PROPOGATION:\n",
    "    dZ2 = A2 - Y\n",
    "    dW2 = (1/m)*np.matmul(dZ2, A1.T)\n",
    "    db2 = (1/m)*np.sum(dZ2, axis=1, keepdims=True)\n",
    "\n",
    "    dZ1 = np.matmul(W2.T, dZ2)*(sigmoidDerivative(Z1))\n",
    "    dW1 = (1/m)*np.matmul(dZ1, A0.T)\n",
    "    db1 = (1/m)*np.sum(dZ1, axis=1, keepdims=True)\n",
    "    \n",
    "    # GRADIENT-DESCENT:\n",
    "    W1 -= alpha*dW1\n",
    "    W2 -= alpha*dW2\n",
    "    b1 -= alpha*db1\n",
    "    b2 -= alpha*db2"
   ]
  },
  {
   "cell_type": "code",
   "execution_count": 63,
   "metadata": {},
   "outputs": [
    {
     "name": "stdout",
     "output_type": "stream",
     "text": [
      "Our predictions:  [0.01215874 0.99085295 0.99085743 0.00985459]\n"
     ]
    }
   ],
   "source": [
    "print(\"Our predictions: \", Y_hat[0])"
   ]
  },
  {
   "cell_type": "code",
   "execution_count": 64,
   "metadata": {},
   "outputs": [
    {
     "data": {
      "image/png": "[encoded data removed]",
      "text/plain": [
       "<Figure size 432x288 with 1 Axes>"
      ]
     },
     "metadata": {
      "needs_background": "light"
     },
     "output_type": "display_data"
    }
   ],
   "source": [
    "plt.plot(np.linspace(1, N_ITERS, N_ITERS), costList)\n",
    "plt.show()"
   ]
  },
  {
   "cell_type": "markdown",
   "metadata": {},
   "source": [
    "The cost function decreases monotonically, and good accuracy is achieved."
   ]
  }
 ],
 "metadata": {
  "kernelspec": {
   "display_name": "Python 3",
   "language": "python",
   "name": "python3"
  },
  "language_info": {
   "codemirror_mode": {
    "name": "ipython",
    "version": 3
   },
   "file_extension": ".py",
   "mimetype": "text/x-python",
   "name": "python",
   "nbconvert_exporter": "python",
   "pygments_lexer": "ipython3",
   "version": "3.7.4"
  }
 },
 "nbformat": 4,
 "nbformat_minor": 4
}
