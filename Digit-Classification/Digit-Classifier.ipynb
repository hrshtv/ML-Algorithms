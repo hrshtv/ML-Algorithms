{
 "cells": [
  {
   "cell_type": "markdown",
   "metadata": {},
   "source": [
    "# Digit Classifier:\n",
    "This is an extension of this [binary digit classifier](https://github.com/hrshtv/ML-Algorithms/tree/master/Digit-Classifier), which in turn was an extension of this ['Simple Neural Network'](https://github.com/hrshtv/ML-Algorithms/tree/master/Simple-Neural-Network).  \n",
    "The goal is to classify handwritten digits into respective 10 classes.  \n",
    "The neural network is implemented from the scratch using NumPy. `sklearn` was used for testing the accuracy and fetching the dataset.  \n",
    "An accuracy of $94\\%$ was achieved.  "
   ]
  },
  {
   "cell_type": "code",
   "execution_count": 52,
   "metadata": {},
   "outputs": [],
   "source": [
    "# IMPORTS:\n",
    "%matplotlib inline\n",
    "from matplotlib import pyplot as plt\n",
    "import numpy as np\n",
    "from time import sleep\n",
    "from sklearn.datasets import fetch_openml\n",
    "from sklearn.metrics import classification_report, confusion_matrix"
   ]
  },
  {
   "cell_type": "code",
   "execution_count": 53,
   "metadata": {},
   "outputs": [],
   "source": [
    "# MNIST Database:\n",
    "mnist = fetch_openml('mnist_784') # A 'Bunch' object."
   ]
  },
  {
   "cell_type": "code",
   "execution_count": 54,
   "metadata": {},
   "outputs": [],
   "source": [
    "X = mnist[\"data\"]\n",
    "y = mnist[\"target\"]\n",
    "m = 60000\n",
    "m_test = 10000\n",
    "N_classes = 10"
   ]
  },
  {
   "cell_type": "code",
   "execution_count": 55,
   "metadata": {},
   "outputs": [],
   "source": [
    "# DATA PRE-PROCESSING:\n",
    "\n",
    "# Normalization/Feature-Scaling:\n",
    "X /= 255\n",
    "\n",
    "y = y.astype(\"int32\")\n",
    "m_total = y.shape[0]\n",
    "y = y.reshape(1, m_total)\n",
    "\n",
    "# One-hot encoding:\n",
    "Y = np.eye(N_classes)[y.astype('int32')]\n",
    "Y = Y.T.reshape(N_classes, m_total) # 10*70000 matrix.\n",
    "\n",
    "X_train = X[:m].T # Elements are arranged column-wise.\n",
    "X_test = X[-m_test:].T \n",
    "\n",
    "Y_train = Y[:,:m]\n",
    "Y_test = Y[:,-m_test:]"
   ]
  },
  {
   "cell_type": "markdown",
   "metadata": {},
   "source": [
    "[One hot encoding](https://hackernoon.com/what-is-one-hot-encoding-why-and-when-do-you-have-to-use-it-e3c6186d008f) is a process by which categorical variables are converted into a form that could be provided to ML algorithms to do a better job in prediction.  \n",
    "Problem with label encoding is that it assumes higher the categorical value, better the category.   \n",
    "This is why we use one hot encoder to perform “binarization” of the category and include it as a feature to train the model."
   ]
  },
  {
   "cell_type": "code",
   "execution_count": 56,
   "metadata": {},
   "outputs": [],
   "source": [
    "# ACTIVATION FUNCTIONS:\n",
    "def sigmoid(z):\n",
    "    return (1 / (1 + np.exp(-z)))\n",
    "\n",
    "def sigmoidDerivative(z):\n",
    "    return sigmoid(z)*(1 - sigmoid(z))\n",
    "\n",
    "def softmax(Z):\n",
    "    return (np.exp(Z)/np.sum(np.exp(Z), axis=0))"
   ]
  },
  {
   "cell_type": "markdown",
   "metadata": {},
   "source": [
    "In multi-class classification, we calculate a separate loss for each class label per observation and sum the result.\n",
    "\n",
    "$$-\\sum_{c=1}^{10} y_{i,c}\\times log(\\hat{y}_{i,c}) $$\n",
    "\n",
    "Where, $c$ denotes the class and $i$ denotes the $i^{th}$ data point.  \n",
    "$\\hat{y}$ is the predicted probability for that class and data point, while $y$ is the binary one-hot encoded label."
   ]
  },
  {
   "cell_type": "code",
   "execution_count": 57,
   "metadata": {},
   "outputs": [],
   "source": [
    "# MULTICLASS-CROSS-ENTROPY-COST-FUNCTION:\n",
    "epsilon = 1e-5 # Avoids \"divide-by-zero\" error.\n",
    "\n",
    "def cost(Y, Y_hat):\n",
    "    m = Y.shape[1]\n",
    "    L = -(1/m) * np.sum(np.multiply(Y, np.log(Y_hat + epsilon)))\n",
    "    return L"
   ]
  },
  {
   "cell_type": "code",
   "execution_count": 58,
   "metadata": {},
   "outputs": [],
   "source": [
    "# GRADIENT-DESCENT PARAMETERS:\n",
    "alpha = 3\n",
    "N_ITERS = 300 # Can be increased, but very very slow.\n",
    "N_EPOCHS = 20\n",
    "n_step = N_ITERS/N_EPOCHS\n",
    "\n",
    "# ARCHITECTURE:\n",
    "n0 = X_train.shape[0] # n0=784\n",
    "n1 = 64 # Hidden layer\n",
    "n2 = 10 # Output layer"
   ]
  },
  {
   "cell_type": "code",
   "execution_count": 59,
   "metadata": {},
   "outputs": [],
   "source": [
    "# INPUT:\n",
    "A0 = X_train\n",
    "# OUTPUT:\n",
    "Y = Y_train\n",
    "# WEIGHTS: \n",
    "W1 = np.random.randn(n1, n0) * 0.01\n",
    "W2 = np.random.randn(n2, n1) * 0.01\n",
    "# BIAS: \n",
    "b1 = np.zeros((n1, 1))\n",
    "b2 = np.zeros((n2, 1))"
   ]
  },
  {
   "cell_type": "code",
   "execution_count": 60,
   "metadata": {},
   "outputs": [
    {
     "name": "stdout",
     "output_type": "stream",
     "text": [
      "Epoch 0 cost:  2.304106510113413\n",
      "Epoch 15 cost:  1.988408973309158\n",
      "Epoch 30 cost:  1.2065949576426849\n",
      "Epoch 45 cost:  0.6417850832739431\n",
      "Epoch 60 cost:  0.4715278523295009\n",
      "Epoch 75 cost:  0.40942549518571275\n",
      "Epoch 90 cost:  0.3336608061000453\n",
      "Epoch 105 cost:  0.30910589706818425\n",
      "Epoch 120 cost:  0.29144194009421676\n",
      "Epoch 135 cost:  0.2774584618469088\n",
      "Epoch 150 cost:  0.2658201275009916\n",
      "Epoch 165 cost:  0.25579739269709634\n",
      "Epoch 180 cost:  0.24695800447967606\n",
      "Epoch 195 cost:  0.2390291269792199\n",
      "Epoch 210 cost:  0.2318271361487139\n",
      "Epoch 225 cost:  0.2252209962510244\n",
      "Epoch 240 cost:  0.2191130480192819\n",
      "Epoch 255 cost:  0.2134286076293294\n",
      "Epoch 270 cost:  0.20810973882224523\n",
      "Epoch 285 cost:  0.20311098828121898\n"
     ]
    }
   ],
   "source": [
    "costList = []\n",
    "for i in range(N_ITERS):\n",
    "    \n",
    "    # FORWARD-PROPOGATION:\n",
    "    Z1 = np.matmul(W1,A0) + b1\n",
    "    A1 = sigmoid(Z1)\n",
    "    \n",
    "    Z2 = np.matmul(W2,A1) + b2\n",
    "    # SOFTMAX:\n",
    "    A2 = softmax(Z2)\n",
    "    Y_hat = A2 # The prediction for all datapoints.\n",
    "\n",
    "    # BACKWARD-PROPOGATION:\n",
    "    dZ2 = A2 - Y\n",
    "    dW2 = (1/m)*np.matmul(dZ2, A1.T)\n",
    "    db2 = (1/m)*np.sum(dZ2, axis=1, keepdims=True)\n",
    "\n",
    "    dZ1 = np.matmul(W2.T, dZ2)*(sigmoidDerivative(Z1))\n",
    "    dW1 = (1/m)*np.matmul(dZ1, A0.T)\n",
    "    db1 = (1/m)*np.sum(dZ1, axis=1, keepdims=True)\n",
    "    \n",
    "    # GRADIENT-DESCENT:\n",
    "    W1 -= alpha*dW1\n",
    "    W2 -= alpha*dW2\n",
    "    b1 -= alpha*db1\n",
    "    b2 -= alpha*db2\n",
    "    \n",
    "    if (i % n_step == 0):\n",
    "        singleCost = cost(Y, Y_hat)\n",
    "        costList.append(singleCost)\n",
    "        print(\"Epoch\", i, \"cost: \", singleCost)"
   ]
  },
  {
   "cell_type": "markdown",
   "metadata": {},
   "source": [
    "[Softmax](https://medium.com/data-science-bootcamp/understand-the-softmax-function-in-minutes-f3a59641e86d) function outputs a vector that represents the probability distributions of a list of potential outcomes. Generally used as the activation function for the output layer of a multi-class classifier.  \n",
    "Softmax turn logits (numeric output of the last linear layer of a multi-class classification neural network) into probabilities by take the exponents of each output and then normalize each number by the sum of those exponents so the entire output vector adds up to one — all probabilities should add up to one. "
   ]
  },
  {
   "cell_type": "code",
   "execution_count": 65,
   "metadata": {},
   "outputs": [
    {
     "data": {
      "image/png": "[encoded data removed]",
      "text/plain": [
       "<Figure size 432x288 with 1 Axes>"
      ]
     },
     "metadata": {
      "needs_background": "light"
     },
     "output_type": "display_data"
    }
   ],
   "source": [
    "plt.plot(np.linspace(1, N_EPOCHS, N_EPOCHS), costList)\n",
    "plt.xlabel(\"Epochs\")\n",
    "plt.ylabel(\"Cost\")\n",
    "plt.title(\"Cost visualization\")\n",
    "plt.show()"
   ]
  },
  {
   "cell_type": "markdown",
   "metadata": {},
   "source": [
    "Increase the iterations to improve the accuracy a little more."
   ]
  },
  {
   "cell_type": "code",
   "execution_count": 62,
   "metadata": {},
   "outputs": [
    {
     "name": "stdout",
     "output_type": "stream",
     "text": [
      "[[ 966    0    8    1    1    8   10    3    5   10]\n",
      " [   0 1109    3    2    2    1    3    7    3    7]\n",
      " [   2    3  964   15    4    3    6   25    6    1]\n",
      " [   1    2    8  942    0   22    0    3   16   11]\n",
      " [   0    1    9    0  930    4    9    6    9   26]\n",
      " [   3    1    2   22    0  818   11    0    8    6]\n",
      " [   6    5   10    2   12   10  916    0   14    1]\n",
      " [   1    2   10    7    2    4    1  955    8   14]\n",
      " [   1   12   16   12    3   13    2    2  901    6]\n",
      " [   0    0    2    7   28    9    0   27    4  927]]\n",
      "              precision    recall  f1-score   support\n",
      "\n",
      "           0       0.99      0.95      0.97      1012\n",
      "           1       0.98      0.98      0.98      1137\n",
      "           2       0.93      0.94      0.94      1029\n",
      "           3       0.93      0.94      0.93      1005\n",
      "           4       0.95      0.94      0.94       994\n",
      "           5       0.92      0.94      0.93       871\n",
      "           6       0.96      0.94      0.95       976\n",
      "           7       0.93      0.95      0.94      1004\n",
      "           8       0.93      0.93      0.93       968\n",
      "           9       0.92      0.92      0.92      1004\n",
      "\n",
      "    accuracy                           0.94     10000\n",
      "   macro avg       0.94      0.94      0.94     10000\n",
      "weighted avg       0.94      0.94      0.94     10000\n",
      "\n"
     ]
    }
   ],
   "source": [
    "# TESTING:\n",
    "\n",
    "Z1 = np.matmul(W1, X_test) + b1\n",
    "A1 = sigmoid(Z1)\n",
    "\n",
    "Z2 = np.matmul(W2, A1) + b2\n",
    "A2 = softmax(Z2)\n",
    "\n",
    "predictions = np.argmax(A2, axis=0)\n",
    "labels = np.argmax(Y_test, axis=0)\n",
    "\n",
    "print(confusion_matrix(predictions, labels))\n",
    "print(classification_report(predictions, labels))"
   ]
  },
  {
   "cell_type": "code",
   "execution_count": 66,
   "metadata": {},
   "outputs": [],
   "source": [
    "# VISUALIZATION OF OUR RESULTS:\n",
    "\n",
    "n_images = 5\n",
    "\n",
    "def predict(i): # Predicts label for i-th element in X_test\n",
    "    Z1 = np.matmul(W1, X_test) + b1\n",
    "    A1 = sigmoid(Z1)\n",
    "\n",
    "    Z2 = np.matmul(W2, A1) + b2\n",
    "    A2 = softmax(Z2)\n",
    "    \n",
    "    return np.round(A2[:, i])\n",
    "\n",
    "def slideshow():\n",
    "    a = np.random.choice(10000, n_images)\n",
    "    for i in a:\n",
    "        plt.imshow(X_test[:,i].reshape(28,28), cmap = \"gray\")\n",
    "        plt.title(\"Actual Label  : {}\".format(np.where(Y_test[:,i]==1)[0][0])+\"\\n\"+\n",
    "                  \"Prediction: {}\".format(np.where(predict(i)==1)[0][0]))\n",
    "        plt.axis(\"off\")\n",
    "        plt.show()"
   ]
  },
  {
   "cell_type": "code",
   "execution_count": 67,
   "metadata": {},
   "outputs": [
    {
     "data": {
      "image/png": "[encoded data removed]",
      "text/plain": [
       "<Figure size 432x288 with 1 Axes>"
      ]
     },
     "metadata": {
      "needs_background": "light"
     },
     "output_type": "display_data"
    },
    {
     "data": {
      "image/png": "[encoded data removed]",
      "text/plain": [
       "<Figure size 432x288 with 1 Axes>"
      ]
     },
     "metadata": {
      "needs_background": "light"
     },
     "output_type": "display_data"
    },
    {
     "data": {
      "image/png": "[encoded data removed]",
      "text/plain": [
       "<Figure size 432x288 with 1 Axes>"
      ]
     },
     "metadata": {
      "needs_background": "light"
     },
     "output_type": "display_data"
    },
    {
     "data": {
      "image/png": "[encoded data removed]",
      "text/plain": [
       "<Figure size 432x288 with 1 Axes>"
      ]
     },
     "metadata": {
      "needs_background": "light"
     },
     "output_type": "display_data"
    },
    {
     "data": {
      "image/png": "[encoded data removed]",
      "text/plain": [
       "<Figure size 432x288 with 1 Axes>"
      ]
     },
     "metadata": {
      "needs_background": "light"
     },
     "output_type": "display_data"
    }
   ],
   "source": [
    "slideshow()"
   ]
  }
 ],
 "metadata": {
  "kernelspec": {
   "display_name": "Python 3",
   "language": "python",
   "name": "python3"
  },
  "language_info": {
   "codemirror_mode": {
    "name": "ipython",
    "version": 3
   },
   "file_extension": ".py",
   "mimetype": "text/x-python",
   "name": "python",
   "nbconvert_exporter": "python",
   "pygments_lexer": "ipython3",
   "version": "3.7.4"
  }
 },
 "nbformat": 4,
 "nbformat_minor": 4
}
