{
 "cells": [
  {
   "cell_type": "markdown",
   "metadata": {},
   "source": [
    "# Histogram Equalization\n",
    "\n",
    "Let's say that we have a grayscale image $A$  \n",
    "Let the number of pixels in this image be given by $n_A$  \n",
    "Let the pixel intensities in $A$ take the values from $[0, n_g-1]$  \n",
    "These are also called the \"gray-levels\"  \n",
    "  \n",
    "Then, $n_i = \\sum_{j \\in A} \\mathbf{I}(j = i)$, where $\\mathbf{I}(x)$ is the indicator function.  \n",
    "$n_i$ is thus the frequency of the gray-level $i$ \n",
    "  \n",
    "Let the pdf for the image be given by $f_X(x)$ and the cdf by $F_X(x)$  , where $X$ is a (continuous) random variable corresponding to the pixel intensities in the original image.    \n",
    "Let $Y$ be the random variable corresponding to the pixel intensities in the new (equalized) image.   \n",
    "Then, ideally, we need $Y$ to be distributed uniformly (This will maxmimize the [contrast](https://en.wikipedia.org/wiki/Contrast_(vision)) as the standard deviation of the pixel intensities will be the maxmimum).\n",
    "  \n",
    "Also, $Y = g(X)$, where $g$ is the transformation function that maps the original intensities to the new ones.  \n",
    "Then the pdf of Y is given by: $f_Y(y) = f_X(g^{-1}(y))\\cdot |g^{-1}(y)'|$ (can be derived from the principle of probability mass conservation)  \n",
    "For a uniformly distributed random variable in the range of $[0, n_g-1]$, we have $f_Y(y) = \\frac{1}{n_g-1}$\n",
    "Also, $g(g^{-1}(y)) = y$, taking the derivative and applying the chain rule, $g^{-1}(y) = \\frac{1}{g'(g^{-1}(y))}$\n",
    "\n",
    "Thus, we need:   \n",
    "  \n",
    "$\\frac{1}{n_g-1} = f_X(g^{-1}(y))\\cdot \\bigg|\\frac{1}{g'(g^{-1}(y))}\\bigg| $\n",
    "  \n",
    "$ \\frac{1}{n_g-1}\\cdot |g'(g^{-1}(y))| = f_X(g^{-1}(y)) $\n",
    "  \n",
    "Letting $z = g^{-1}(y)$, we get:  \n",
    "  \n",
    "$ \\frac{1}{n_g-1}\\cdot |g'(z)| = f_X(z) $\n",
    "  \n",
    "$\\boxed{ g(y) = (n_g - 1)\\int_0^y f_X(z)dz = (n_g - 1)F_X(y) }$\n",
    "\n"
   ]
  },
  {
   "cell_type": "markdown",
   "metadata": {},
   "source": [
    "In practice, we use the normalized histogram of the image as an approximation for the cdf, this is also called the empirical cdf, given by:  \n",
    "  \n",
    "$\n",
    "\\hat F_X(x) = P(X \\le x) = \\sum_{i=0}^{x}P(X = i) = \\frac{1}{n}\\cdot\\sum_{i=0}^{x}n_i\n",
    "$\n"
   ]
  },
  {
   "cell_type": "markdown",
   "metadata": {},
   "source": [
    "This histogram equalization uses the same transformation function derived from the image histogram to transform all pixels.    \n",
    "This works well when the distribution of pixel values is similar throughout the image.   \n",
    "However, when the image contains regions that are significantly lighter or darker than most of the image, the contrast in those regions will not be sufficiently enhanced.   \n",
    "Adaptive histogram equalization (AHE) improves on this by transforming each pixel with a transformation function derived from a neighbourhood region, i.e a square neighbourhood.  \n",
    "Ordinary AHE tends to overamplify the contrast in near-constant regions of the image, since the histogram in such regions is highly concentrated. As a result, AHE may cause noise to be amplified in near-constant regions.   \n",
    "Contrast Limited AHE (CLAHE) is a variant of adaptive histogram equalization in which the contrast amplification is limited, so as to reduce this problem of noise amplification.  "
   ]
  },
  {
   "cell_type": "markdown",
   "metadata": {},
   "source": [
    "References: \n",
    "- [HE](https://en.wikipedia.org/wiki/Histogram_equalization)\n",
    "- [AHE](https://en.wikipedia.org/wiki/Adaptive_histogram_equalization)"
   ]
  }
 ],
 "metadata": {
  "kernelspec": {
   "display_name": "Python 3",
   "language": "python",
   "name": "python3"
  },
  "language_info": {
   "codemirror_mode": {
    "name": "ipython",
    "version": 3
   },
   "file_extension": ".py",
   "mimetype": "text/x-python",
   "name": "python",
   "nbconvert_exporter": "python",
   "pygments_lexer": "ipython3",
   "version": "3.8.2"
  }
 },
 "nbformat": 4,
 "nbformat_minor": 4
}
