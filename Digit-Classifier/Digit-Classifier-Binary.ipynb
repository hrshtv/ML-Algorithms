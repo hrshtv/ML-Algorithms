{
 "cells": [
  {
   "cell_type": "markdown",
   "metadata": {},
   "source": [
    "# Digit Classifier:\n",
    "This is an extension of the 'Simple Neural Network' which mimics the XOR gate. You can find that in the directory which goes by the same name.\n",
    "\n",
    "---\n",
    "## Data:\n",
    "The MNIST database of handwritten digits with 784 features, raw data available at: [http://yann.lecun.com/exdb/mnist/](http://yann.lecun.com/exdb/mnist/). It can be split in a training set of the first 60,000 examples, and a test set of 10,000 examples.  \n",
    "\n",
    "We will be making a 2 layer NN that classifies '0' as True and all other digits as 'False'"
   ]
  },
  {
   "cell_type": "code",
   "execution_count": 152,
   "metadata": {},
   "outputs": [],
   "source": [
    "# IMPORTS:\n",
    "%matplotlib inline\n",
    "from matplotlib import pyplot as plt\n",
    "import numpy as np\n",
    "from sklearn.datasets import fetch_openml"
   ]
  },
  {
   "cell_type": "code",
   "execution_count": 153,
   "metadata": {},
   "outputs": [],
   "source": [
    "# MNIST Database:\n",
    "mnist = fetch_openml('mnist_784', )"
   ]
  },
  {
   "cell_type": "code",
   "execution_count": 154,
   "metadata": {},
   "outputs": [],
   "source": [
    "X = mnist[\"data\"]\n",
    "y = mnist[\"target\"]\n",
    "m = 60000\n",
    "m_test = 10000"
   ]
  },
  {
   "cell_type": "code",
   "execution_count": 155,
   "metadata": {},
   "outputs": [],
   "source": [
    "# DATA PRE-PROCESSING:\n",
    "\n",
    "y = y.astype(\"int32\")\n",
    "\n",
    "# Normalization/Feature-Scaling:\n",
    "X /= 255\n",
    "\n",
    "## Replacing all other numbers by 0 and all zeros by 1.\n",
    "yTemp = np.zeros(y.shape[0])\n",
    "yTemp[np.where(y == 0)[0]] = 1\n",
    "y = yTemp\n",
    "\n",
    "# First 60,000 examples for training.\n",
    "X_train = X[:m].T # Elements are arranged column-wise.\n",
    "y_train = y[:m].reshape(1, m)\n",
    "\n",
    "# Last 10,000 example for testing.\n",
    "X_test = X[-m_test:].T # Elements are arranged column-wise.\n",
    "y_test = y[-m_test:].reshape(1, m_test) # Row vector"
   ]
  },
  {
   "cell_type": "code",
   "execution_count": 156,
   "metadata": {},
   "outputs": [
    {
     "data": {
      "image/png": "[encoded data removed]",
      "text/plain": [
       "<Figure size 432x288 with 1 Axes>"
      ]
     },
     "metadata": {
      "needs_background": "light"
     },
     "output_type": "display_data"
    },
    {
     "name": "stdout",
     "output_type": "stream",
     "text": [
      "Label:  1.0\n"
     ]
    }
   ],
   "source": [
    "i = 1\n",
    "plt.imshow(X_train[:,i].reshape(28,28), cmap = \"gray\")\n",
    "plt.axis(\"off\")\n",
    "plt.show()\n",
    "print(\"Label: \", y_train[:,i][0])"
   ]
  },
  {
   "cell_type": "markdown",
   "metadata": {},
   "source": [
    "We first want to build a simple, feed-forward network with $784$ inputs($28\\times28$), and a single sigmoid unit generating the output."
   ]
  },
  {
   "cell_type": "code",
   "execution_count": 157,
   "metadata": {},
   "outputs": [],
   "source": [
    "# SIGMOID ACTIVATION FUNCTION:\n",
    "def sigmoid(z):\n",
    "    return (1 / (1 + np.exp(-z)))\n",
    "\n",
    "def sigmoidDerivative(z):\n",
    "    return sigmoid(z)*(1 - sigmoid(z))"
   ]
  },
  {
   "cell_type": "code",
   "execution_count": 158,
   "metadata": {},
   "outputs": [],
   "source": [
    "epsilon = 1e-5 # Avoids \"divide-by-zero\" error.\n",
    "\n",
    "def cost(Y, Y_hat):\n",
    "    L = -(1./m) * (np.sum( np.multiply(np.log(Y_hat + epsilon),Y) ) + np.sum( np.multiply(np.log(1-Y_hat + epsilon),(1-Y)) ) )\n",
    "    return L"
   ]
  },
  {
   "cell_type": "code",
   "execution_count": 159,
   "metadata": {},
   "outputs": [],
   "source": [
    "# GRADIENT-DESCENT PARAMETERS:\n",
    "alpha = 1\n",
    "N_ITERS = 300 # Can be increased, but very very slow.\n",
    "N_EPOCHS = 20\n",
    "n_step = N_ITERS/N_EPOCHS\n",
    "# ARCHITECTURE:\n",
    "n0 = X_train.shape[0] # n0=784\n",
    "n1 = 64 # Hidden layer\n",
    "n2 = 1 # Single output."
   ]
  },
  {
   "cell_type": "code",
   "execution_count": 160,
   "metadata": {},
   "outputs": [],
   "source": [
    "# INPUT:\n",
    "A0 = X_train\n",
    "# OUTPUT:\n",
    "Y = y_train\n",
    "# WEIGHTS: \n",
    "W1 = np.random.randn(n1, n0) * 0.01\n",
    "W2 = np.random.randn(n2, n1) * 0.01\n",
    "# BIAS: \n",
    "b1 = np.zeros((n1, 1))\n",
    "b2 = np.zeros((n2, 1))"
   ]
  },
  {
   "cell_type": "code",
   "execution_count": 161,
   "metadata": {},
   "outputs": [
    {
     "name": "stdout",
     "output_type": "stream",
     "text": [
      "Epoch 0 cost:  0.6684886179243424\n",
      "Epoch 15 cost:  0.23798885660504113\n",
      "Epoch 30 cost:  0.18345533166462483\n",
      "Epoch 45 cost:  0.146225386720538\n",
      "Epoch 60 cost:  0.1203983493081596\n",
      "Epoch 75 cost:  0.1002567491027199\n",
      "Epoch 90 cost:  0.0854837576196186\n",
      "Epoch 105 cost:  0.07489842737656993\n",
      "Epoch 120 cost:  0.06699941522877371\n",
      "Epoch 135 cost:  0.06101936120893138\n",
      "Epoch 150 cost:  0.056367457670381725\n",
      "Epoch 165 cost:  0.05263923807476318\n",
      "Epoch 180 cost:  0.04958759256946424\n",
      "Epoch 195 cost:  0.04705810591053421\n",
      "Epoch 210 cost:  0.04494176163182559\n",
      "Epoch 225 cost:  0.043153816270137306\n",
      "Epoch 240 cost:  0.04162791912974338\n",
      "Epoch 255 cost:  0.04031292133091976\n",
      "Epoch 270 cost:  0.03916949451662608\n",
      "Epoch 285 cost:  0.03816717543189087\n"
     ]
    }
   ],
   "source": [
    "costList = []\n",
    "for i in range(N_ITERS):\n",
    "    \n",
    "    # FORWARD-PROPOGATION:\n",
    "    Z1 = np.matmul(W1,A0) + b1\n",
    "    A1 = sigmoid(Z1)\n",
    "    \n",
    "    Z2 = np.matmul(W2,A1) + b2\n",
    "    A2 = sigmoid(Z2)\n",
    "    Y_hat = A2 # The prediction for all datapoints.\n",
    "\n",
    "    # BACKWARD-PROPOGATION:\n",
    "    dZ2 = A2 - Y\n",
    "    dW2 = (1/m)*np.matmul(dZ2, A1.T)\n",
    "    db2 = (1/m)*np.sum(dZ2, axis=1, keepdims=True)\n",
    "\n",
    "    dZ1 = np.matmul(W2.T, dZ2)*(sigmoidDerivative(Z1))\n",
    "    dW1 = (1/m)*np.matmul(dZ1, A0.T)\n",
    "    db1 = (1/m)*np.sum(dZ1, axis=1, keepdims=True)\n",
    "    \n",
    "    # GRADIENT-DESCENT:\n",
    "    W1 -= alpha*dW1\n",
    "    W2 -= alpha*dW2\n",
    "    b1 -= alpha*db1\n",
    "    b2 -= alpha*db2\n",
    "    \n",
    "    if (i % n_step == 0):\n",
    "        singleCost = cost(Y, Y_hat)\n",
    "        costList.append(singleCost)\n",
    "        print(\"Epoch\", i, \"cost: \", singleCost)"
   ]
  },
  {
   "cell_type": "code",
   "execution_count": 164,
   "metadata": {},
   "outputs": [
    {
     "data": {
      "image/png": "[encoded data removed]",
      "text/plain": [
       "<Figure size 432x288 with 1 Axes>"
      ]
     },
     "metadata": {
      "needs_background": "light"
     },
     "output_type": "display_data"
    }
   ],
   "source": [
    "plt.plot(np.linspace(1, N_EPOCHS-1, N_EPOCHS-1), costList[1:]) # Ignoring the Epoch 0 cost.\n",
    "plt.show()"
   ]
  },
  {
   "cell_type": "code",
   "execution_count": 167,
   "metadata": {},
   "outputs": [
    {
     "name": "stdout",
     "output_type": "stream",
     "text": [
      "Confusion matrix: \n",
      " [[8961   47]\n",
      " [  59  933]] \n",
      "\n",
      "Classification report: \n",
      "               precision    recall  f1-score   support\n",
      "\n",
      "         0.0       0.99      0.99      0.99      9008\n",
      "         1.0       0.95      0.94      0.95       992\n",
      "\n",
      "    accuracy                           0.99     10000\n",
      "   macro avg       0.97      0.97      0.97     10000\n",
      "weighted avg       0.99      0.99      0.99     10000\n",
      "\n"
     ]
    }
   ],
   "source": [
    "# TESTING:\n",
    "\n",
    "from sklearn.metrics import classification_report, confusion_matrix\n",
    "\n",
    "Z1 = np.matmul(W1, X_test) + b1\n",
    "A1 = sigmoid(Z1)\n",
    "\n",
    "Z2 = np.matmul(W2, A1) + b2\n",
    "A2 = sigmoid(Z2)\n",
    "\n",
    "predictions = np.round(A2)[0,:]\n",
    "labels = y_test[0,:]\n",
    "\n",
    "print(\"Confusion matrix: \\n\", confusion_matrix(predictions, labels), \"\\n\")\n",
    "print(\"Classification report: \\n\", classification_report(predictions, labels))"
   ]
  },
  {
   "cell_type": "code",
   "execution_count": null,
   "metadata": {},
   "outputs": [],
   "source": []
  }
 ],
 "metadata": {
  "kernelspec": {
   "display_name": "Python 3",
   "language": "python",
   "name": "python3"
  },
  "language_info": {
   "codemirror_mode": {
    "name": "ipython",
    "version": 3
   },
   "file_extension": ".py",
   "mimetype": "text/x-python",
   "name": "python",
   "nbconvert_exporter": "python",
   "pygments_lexer": "ipython3",
   "version": "3.7.4"
  }
 },
 "nbformat": 4,
 "nbformat_minor": 4
}
