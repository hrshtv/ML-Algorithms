{
 "cells": [
  {
   "cell_type": "markdown",
   "metadata": {},
   "source": [
    "# Binary Classification using an SVM\n",
    "We shall classify breast cancer as benign or malignant using a SVM built from scratch.  \n",
    "The dataset can be found [here](https://www.kaggle.com/uciml/breast-cancer-wisconsin-data)."
   ]
  },
  {
   "cell_type": "code",
   "execution_count": 1268,
   "metadata": {},
   "outputs": [],
   "source": [
    "# IMPORTS:\n",
    "\n",
    "%matplotlib inline\n",
    "from matplotlib import pyplot as plt\n",
    "import numpy as np\n",
    "import pandas as pd\n",
    "\n",
    "# We'll use sklearn functions mainly as helper functions:\n",
    "from sklearn.utils import shuffle # For shuffling the data\n",
    "from sklearn.preprocessing import StandardScaler as scale # For feature normalization\n",
    "from sklearn.model_selection import train_test_split as tts # For creating separate train/test sets\n",
    "from sklearn.metrics import accuracy_score, confusion_matrix, f1_score # For evaluating our data"
   ]
  },
  {
   "cell_type": "markdown",
   "metadata": {},
   "source": [
    "# Data and Pre-processing:"
   ]
  },
  {
   "cell_type": "code",
   "execution_count": 1269,
   "metadata": {},
   "outputs": [],
   "source": [
    "# DATA:\n",
    "def load_data():\n",
    "    df = pd.read_csv('data.csv')\n",
    "    # 'id' is a useless feature, and a null column was also added at the last while reading the data.\n",
    "    # We need to remove both of these.\n",
    "    df.drop(df.columns[[-1, 0]], axis=1, inplace=True)\n",
    "    \n",
    "    # We also need to encode the data categorically.\n",
    "    diagnosis_map = {'M':1, 'B':-1}\n",
    "    df['diagnosis'] = df['diagnosis'].map(diagnosis_map)\n",
    "    return df"
   ]
  },
  {
   "cell_type": "code",
   "execution_count": 1270,
   "metadata": {},
   "outputs": [],
   "source": [
    "# PRE-PROCESSING THE DATA:\n",
    "def preprocess_data(df):\n",
    "    X = df.drop(['diagnosis'], axis=1).to_numpy()\n",
    "    y = df['diagnosis'].to_numpy()\n",
    "    # Shuffling the data:\n",
    "    X, y = shuffle(X, y)\n",
    "    # Feature Scaling: Mean Normalization\n",
    "    X = scale().fit_transform(X)\n",
    "    return X, y"
   ]
  },
  {
   "cell_type": "markdown",
   "metadata": {},
   "source": [
    "# Cost function and it's Gradient\n",
    "Mathematical details are covered in the theory part. "
   ]
  },
  {
   "cell_type": "code",
   "execution_count": 1271,
   "metadata": {},
   "outputs": [],
   "source": [
    "def cost(X, y, W, b, C):\n",
    "    # We use the Hinge Loss function:\n",
    "    hinge_loss = 0\n",
    "    \n",
    "    # Not vectorized: (Included for completeness :p)\n",
    "    #for i in range(y.shape[0]):\n",
    "    #    loss = 1 - y[i]*(np.dot(W.T, X[i]) + b)\n",
    "    #    loss = max(0, loss)\n",
    "    #    hinge_loss += loss\n",
    "    \n",
    "    # Vectorized:\n",
    "    losses = 1 - y*(np.dot(X, W) + b)\n",
    "    losses[losses < 0] = 0 # Like max(0, loss) in the unvectorized version\n",
    "    hinge_loss = np.sum(losses)\n",
    "    \n",
    "    # \"Regularized\" cost:\n",
    "    cost = (1/2)*np.dot(W, W) + C*hinge_loss\n",
    "    return cost"
   ]
  },
  {
   "cell_type": "code",
   "execution_count": 1272,
   "metadata": {},
   "outputs": [],
   "source": [
    "def gradient(X, y, W, b, C):\n",
    "    dw = np.zeros(W.shape)\n",
    "    db = 0\n",
    "    distances = 1 - y*(np.dot(X, W) + b) # Vectorized\n",
    "    # TODO: Vectorize the below for-loop\n",
    "    for i,d in enumerate(distances):\n",
    "        if max(0, d) == 0:\n",
    "            dw_i = W\n",
    "            db_i = 0\n",
    "        else:\n",
    "            dw_i = W - (C*y[i]*X[i])\n",
    "            db_i = -C*y[i]\n",
    "        dw += dw_i\n",
    "        db += db_i \n",
    "    return dw, db"
   ]
  },
  {
   "cell_type": "markdown",
   "metadata": {},
   "source": [
    "# Batch Gradient Descent:"
   ]
  },
  {
   "cell_type": "code",
   "execution_count": 1273,
   "metadata": {},
   "outputs": [],
   "source": [
    "# GRADIENT DESCENT PARAMETERS:\n",
    "alpha = 0.000001\n",
    "N_ITERS = 800"
   ]
  },
  {
   "cell_type": "code",
   "execution_count": 1274,
   "metadata": {},
   "outputs": [],
   "source": [
    "# IMPLEMENTING BATCH-GRADIENT-DESCENT\n",
    "costList = []\n",
    "def bgd(X, y, W, b, C):\n",
    "    for _ in  range(N_ITERS):\n",
    "        dw, db = gradient(X, y, W, b, C)\n",
    "        W = W - alpha*dw\n",
    "        b = b - alpha*db\n",
    "        costList.append(cost(X, y, W, b, C))\n",
    "    return W, b"
   ]
  },
  {
   "cell_type": "code",
   "execution_count": 1275,
   "metadata": {},
   "outputs": [],
   "source": [
    "# Function to predict the classes in a set of data points:\n",
    "def predict(X, W, b):\n",
    "    return (np.dot(X, W) + b) # Vectorized"
   ]
  },
  {
   "cell_type": "markdown",
   "metadata": {},
   "source": [
    "# Training and Testing:"
   ]
  },
  {
   "cell_type": "code",
   "execution_count": 1276,
   "metadata": {},
   "outputs": [],
   "source": [
    "# MAIN:\n",
    "df = load_data()\n",
    "X, y = preprocess_data(df)\n",
    "# SPLITTING THE DATA:\n",
    "X_train, X_test, y_train, y_test = tts(X, y, random_state=0)"
   ]
  },
  {
   "cell_type": "code",
   "execution_count": 1277,
   "metadata": {},
   "outputs": [],
   "source": [
    "# Initial Weights and Biases:\n",
    "W_0 = np.zeros(X_train.shape[1])\n",
    "b_0 = 0\n",
    "C = 6\n",
    "# Training:\n",
    "W, b = bgd(X_train, y_train, W_0, b_0, C)"
   ]
  },
  {
   "cell_type": "code",
   "execution_count": 1278,
   "metadata": {},
   "outputs": [
    {
     "data": {
      "image/png": "[encoded data removed]",
      "text/plain": [
       "<Figure size 432x288 with 1 Axes>"
      ]
     },
     "metadata": {
      "needs_background": "light"
     },
     "output_type": "display_data"
    }
   ],
   "source": [
    "# Cost variation visualization:\n",
    "plt.plot(np.linspace(0, N_ITERS, N_ITERS), costList)\n",
    "plt.xlabel(\"Iterations\")\n",
    "plt.ylabel(\"Cost\")\n",
    "plt.show()"
   ]
  },
  {
   "cell_type": "markdown",
   "metadata": {},
   "source": [
    "Don't be surprised by the high value of the cost.   \n",
    "Unlike logistic regression, we have not divided the cost by the size while computing the cost."
   ]
  },
  {
   "cell_type": "code",
   "execution_count": 1279,
   "metadata": {},
   "outputs": [],
   "source": [
    "y_pred = np.sign(predict(X_test, W, b))"
   ]
  },
  {
   "cell_type": "code",
   "execution_count": 1280,
   "metadata": {},
   "outputs": [
    {
     "name": "stdout",
     "output_type": "stream",
     "text": [
      "Confusion Matrix: \n",
      " [[85  0]\n",
      " [ 2 56]]\n",
      "Accuracy Score:  0.986013986013986\n",
      "F1 Score:  0.9824561403508771\n"
     ]
    }
   ],
   "source": [
    "print(\"Confusion Matrix: \\n\", confusion_matrix(y_test, y_pred))\n",
    "print(\"Accuracy Score: \", accuracy_score(y_test, y_pred))\n",
    "print(\"F1 Score: \", f1_score(y_test, y_pred))"
   ]
  }
 ],
 "metadata": {
  "kernelspec": {
   "display_name": "Python 3",
   "language": "python",
   "name": "python3"
  },
  "language_info": {
   "codemirror_mode": {
    "name": "ipython",
    "version": 3
   },
   "file_extension": ".py",
   "mimetype": "text/x-python",
   "name": "python",
   "nbconvert_exporter": "python",
   "pygments_lexer": "ipython3",
   "version": "3.7.4"
  }
 },
 "nbformat": 4,
 "nbformat_minor": 4
}
