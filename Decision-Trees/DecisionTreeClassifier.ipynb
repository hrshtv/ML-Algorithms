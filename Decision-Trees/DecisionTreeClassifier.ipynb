{
 "cells": [
  {
   "cell_type": "markdown",
   "metadata": {},
   "source": [
    "# Banknote Classification using Decision Trees"
   ]
  },
  {
   "cell_type": "code",
   "execution_count": 1395,
   "metadata": {},
   "outputs": [],
   "source": [
    "%matplotlib inline\n",
    "from matplotlib import pyplot as plt\n",
    "import pandas as pd\n",
    "import numpy as np"
   ]
  },
  {
   "cell_type": "markdown",
   "metadata": {},
   "source": [
    "## Data:\n",
    "We'll use the [banknote authentication dataset](http://archive.ics.uci.edu/ml/datasets/banknote+authentication) for this implementation."
   ]
  },
  {
   "cell_type": "code",
   "execution_count": 1396,
   "metadata": {},
   "outputs": [],
   "source": [
    "data = pd.read_csv('data.csv', \n",
    "                   names = ['variance','skewness', 'kurtosis', 'entropy', 'class'])"
   ]
  },
  {
   "cell_type": "markdown",
   "metadata": {},
   "source": [
    "The data is a $1372 \\times 5$ matrix. The features are extracted from banknote images using 'Wavelet Transformation'"
   ]
  },
  {
   "cell_type": "code",
   "execution_count": 1397,
   "metadata": {},
   "outputs": [
    {
     "data": {
      "text/html": [
       "<div>\n",
       "<style scoped>\n",
       "    .dataframe tbody tr th:only-of-type {\n",
       "        vertical-align: middle;\n",
       "    }\n",
       "\n",
       "    .dataframe tbody tr th {\n",
       "        vertical-align: top;\n",
       "    }\n",
       "\n",
       "    .dataframe thead th {\n",
       "        text-align: right;\n",
       "    }\n",
       "</style>\n",
       "<table border=\"1\" class=\"dataframe\">\n",
       "  <thead>\n",
       "    <tr style=\"text-align: right;\">\n",
       "      <th></th>\n",
       "      <th>variance</th>\n",
       "      <th>skewness</th>\n",
       "      <th>kurtosis</th>\n",
       "      <th>entropy</th>\n",
       "      <th>class</th>\n",
       "    </tr>\n",
       "  </thead>\n",
       "  <tbody>\n",
       "    <tr>\n",
       "      <th>0</th>\n",
       "      <td>3.62160</td>\n",
       "      <td>8.66610</td>\n",
       "      <td>-2.8073</td>\n",
       "      <td>-0.44699</td>\n",
       "      <td>0</td>\n",
       "    </tr>\n",
       "    <tr>\n",
       "      <th>1</th>\n",
       "      <td>4.54590</td>\n",
       "      <td>8.16740</td>\n",
       "      <td>-2.4586</td>\n",
       "      <td>-1.46210</td>\n",
       "      <td>0</td>\n",
       "    </tr>\n",
       "    <tr>\n",
       "      <th>2</th>\n",
       "      <td>3.86600</td>\n",
       "      <td>-2.63830</td>\n",
       "      <td>1.9242</td>\n",
       "      <td>0.10645</td>\n",
       "      <td>0</td>\n",
       "    </tr>\n",
       "    <tr>\n",
       "      <th>3</th>\n",
       "      <td>3.45660</td>\n",
       "      <td>9.52280</td>\n",
       "      <td>-4.0112</td>\n",
       "      <td>-3.59440</td>\n",
       "      <td>0</td>\n",
       "    </tr>\n",
       "    <tr>\n",
       "      <th>4</th>\n",
       "      <td>0.32924</td>\n",
       "      <td>-4.45520</td>\n",
       "      <td>4.5718</td>\n",
       "      <td>-0.98880</td>\n",
       "      <td>0</td>\n",
       "    </tr>\n",
       "    <tr>\n",
       "      <th>...</th>\n",
       "      <td>...</td>\n",
       "      <td>...</td>\n",
       "      <td>...</td>\n",
       "      <td>...</td>\n",
       "      <td>...</td>\n",
       "    </tr>\n",
       "    <tr>\n",
       "      <th>1367</th>\n",
       "      <td>0.40614</td>\n",
       "      <td>1.34920</td>\n",
       "      <td>-1.4501</td>\n",
       "      <td>-0.55949</td>\n",
       "      <td>1</td>\n",
       "    </tr>\n",
       "    <tr>\n",
       "      <th>1368</th>\n",
       "      <td>-1.38870</td>\n",
       "      <td>-4.87730</td>\n",
       "      <td>6.4774</td>\n",
       "      <td>0.34179</td>\n",
       "      <td>1</td>\n",
       "    </tr>\n",
       "    <tr>\n",
       "      <th>1369</th>\n",
       "      <td>-3.75030</td>\n",
       "      <td>-13.45860</td>\n",
       "      <td>17.5932</td>\n",
       "      <td>-2.77710</td>\n",
       "      <td>1</td>\n",
       "    </tr>\n",
       "    <tr>\n",
       "      <th>1370</th>\n",
       "      <td>-3.56370</td>\n",
       "      <td>-8.38270</td>\n",
       "      <td>12.3930</td>\n",
       "      <td>-1.28230</td>\n",
       "      <td>1</td>\n",
       "    </tr>\n",
       "    <tr>\n",
       "      <th>1371</th>\n",
       "      <td>-2.54190</td>\n",
       "      <td>-0.65804</td>\n",
       "      <td>2.6842</td>\n",
       "      <td>1.19520</td>\n",
       "      <td>1</td>\n",
       "    </tr>\n",
       "  </tbody>\n",
       "</table>\n",
       "<p>1372 rows × 5 columns</p>\n",
       "</div>"
      ],
      "text/plain": [
       "      variance  skewness  kurtosis  entropy  class\n",
       "0      3.62160   8.66610   -2.8073 -0.44699      0\n",
       "1      4.54590   8.16740   -2.4586 -1.46210      0\n",
       "2      3.86600  -2.63830    1.9242  0.10645      0\n",
       "3      3.45660   9.52280   -4.0112 -3.59440      0\n",
       "4      0.32924  -4.45520    4.5718 -0.98880      0\n",
       "...        ...       ...       ...      ...    ...\n",
       "1367   0.40614   1.34920   -1.4501 -0.55949      1\n",
       "1368  -1.38870  -4.87730    6.4774  0.34179      1\n",
       "1369  -3.75030 -13.45860   17.5932 -2.77710      1\n",
       "1370  -3.56370  -8.38270   12.3930 -1.28230      1\n",
       "1371  -2.54190  -0.65804    2.6842  1.19520      1\n",
       "\n",
       "[1372 rows x 5 columns]"
      ]
     },
     "metadata": {},
     "output_type": "display_data"
    }
   ],
   "source": [
    "data.astype('float32').dtypes\n",
    "display(data)"
   ]
  },
  {
   "cell_type": "code",
   "execution_count": 1398,
   "metadata": {},
   "outputs": [],
   "source": [
    "X = data.drop('class', axis=1).to_numpy()\n",
    "y = data['class'].to_numpy()"
   ]
  },
  {
   "attachments": {},
   "cell_type": "markdown",
   "metadata": {},
   "source": [
    "## Gini Impurity (G.I):\n",
    "'Cost Function' used for decision trees to determine 'purity' of a node. \n",
    "\n",
    "$$G = 1 - \\sum\\limits_{k=1}^n{p_k^2}$$\n",
    "\n",
    "Where $p_k$ is the fraction of samples belonging to class $k$.  \n",
    "A fully pure node has a Gini Impurity of $0$.  \n",
    "Whereas a maximum gini impurity will be of $0.5$ in case of Binary Classification.  \n",
    "  \n",
    "We need to split each node into two (We'll implement a binary tree here) such the the Gini Impurity of the children nodes is minimized.\n",
    "  \n",
    "Let a node be of size $m$.  \n",
    "After split, let the left node be of size $i$, and thus, the right node of size $m-i$   \n",
    "The G.I of the left node will be $G_{left} = 1 - \\sum\\limits_{k=1}^n({\\frac{m_k^{left}}{i}})^2$  and $G_{right} = 1 - \\sum\\limits_{k=1}^n({\\frac{m_k^{right}}{m-i}})^2$ \n",
    "\n",
    "The resulting impurity is just the weighted average of the two, which will be the final single-valued 'cost'  \n",
    "$$G_{i} = \\frac{i}{m} G_{left} + \\frac{m-i}{m}G_{right}$$\n",
    "\n",
    "This is the value which much be minimized, furthermore, it must be less than the impurity of it's parent node. (Nodes must become more pure as we traverse down the tree)"
   ]
  },
  {
   "cell_type": "code",
   "execution_count": 1399,
   "metadata": {},
   "outputs": [],
   "source": [
    "# Function that returns the gini impurity in a given list of classes\n",
    "def gini_impurity(y):\n",
    "    y = np.asarray(y)\n",
    "    m = y.shape[0]\n",
    "    classes = np.unique(y)\n",
    "    # List containing the fraction of samples belonging to each class.\n",
    "    g_i = np.asarray([(np.sum(y == c)/m) for c in classes])\n",
    "    G = 1 - np.sum(g_i**2)\n",
    "    return G"
   ]
  },
  {
   "cell_type": "code",
   "execution_count": 1400,
   "metadata": {},
   "outputs": [],
   "source": [
    "# Function that returns the weighted gini impurity of a node\n",
    "def get_gini(G_left, G_right):\n",
    "    m_l = G_left.size\n",
    "    m_r = G_right.size\n",
    "    G = (m_l/(m_l+m_r))*G_left + (m_r/(m_l+m_r))*G_right\n",
    "    return G"
   ]
  },
  {
   "cell_type": "code",
   "execution_count": 1401,
   "metadata": {},
   "outputs": [],
   "source": [
    "# Function to split a node X, into two nodes, based on a feature and a threshold for that feature\n",
    "# (This can be optimized)\n",
    "def split_node(X, y, feature, threshold):\n",
    "    X_left, y_left, X_right, y_right = [], [], [], []\n",
    "    for (row,y_i) in zip(X,y):\n",
    "        if row[feature] < threshold:\n",
    "            X_left.append(row)\n",
    "            y_left.append(y_i)\n",
    "        else:\n",
    "            X_right.append(row)\n",
    "            y_right.append(y_i)\n",
    "    return X_left, y_left, X_right, y_right"
   ]
  },
  {
   "cell_type": "code",
   "execution_count": 1402,
   "metadata": {},
   "outputs": [],
   "source": [
    "# Function to select the best threshold and feature for a given node given by X\n",
    "def best_split(X, y):\n",
    "    X = np.asarray(X)\n",
    "    y = np.asarray(y)\n",
    "    # G can at max be 1. We set it initially to 2. This can be any number >= 1.\n",
    "    best_feature, best_threshold, best_G, best_children = 0, 0, 2, 0\n",
    "    for feature in range(X.shape[1]):\n",
    "        for row in X:\n",
    "            X_left, y_left, X_right, y_right = split_node(X, y, feature, row[feature])\n",
    "            G_left  = gini_impurity(y_left)\n",
    "            G_right = gini_impurity(y_right)\n",
    "            G = get_gini(G_left, G_right)\n",
    "            if G < best_G:\n",
    "                Node_left = [X_left, y_left]\n",
    "                Node_right = [X_right, y_right]\n",
    "                best_feature, best_threshold, best_G, best_children = \\\n",
    "                feature, row[feature], G, [Node_left, Node_right]\n",
    "    return dict({'feature':best_feature, 'threshold':best_threshold, 'children':best_children})"
   ]
  },
  {
   "cell_type": "markdown",
   "metadata": {},
   "source": [
    "## Tree structure\n",
    "Our tree will consist of nodes.   \n",
    "Each node will be of the form `[Node_left, Node_right]` accessible through the 'children' key of the dictionary returned by `best_split`.   \n",
    "Both `Node_left` and `Node_right` will be of the form `[X, y]`"
   ]
  },
  {
   "cell_type": "code",
   "execution_count": 1403,
   "metadata": {},
   "outputs": [],
   "source": [
    "# Dummy data to test:\n",
    "Xd = np.asarray([[2.771244718,1.784783929],\n",
    "                [1.728571309,1.169761413],\n",
    "                [3.678319846,2.81281357],\n",
    "                [3.961043357,2.61995032],\n",
    "                [2.999208922,2.209014212],\n",
    "                [7.497545867,3.162953546],\n",
    "                [9.00220326,3.339047188],\n",
    "                [7.444542326,0.476683375],\n",
    "                [10.12493903,3.234550982],\n",
    "                [6.642287351,3.319983761]])\n",
    "yd = np.asarray([0,0,0,0,0,1,1,1,1,1])"
   ]
  },
  {
   "cell_type": "code",
   "execution_count": 1404,
   "metadata": {},
   "outputs": [],
   "source": [
    "# Function that converts a node (node_left or node_right) to a leaf\n",
    "def leaf(Node):\n",
    "    X, y = Node\n",
    "    return np.argmax(np.bincount(y))"
   ]
  },
  {
   "cell_type": "code",
   "execution_count": 1405,
   "metadata": {},
   "outputs": [],
   "source": [
    "# Function to split nodes recursively\n",
    "def tree(Node, max_depth, min_size, depth): \n",
    "    \n",
    "    left, right = Node['children']\n",
    "    # No need for children anymore :)\n",
    "    del(Node['children'])\n",
    "    \n",
    "    # BASE CASES:\n",
    "    ## If no children:\n",
    "    if not left or not right:\n",
    "        Node['left'] = Node['right'] = leaf(left + right)\n",
    "        return\n",
    "    ## Checking whether max depth has been reached:\n",
    "    if depth >= max_depth:\n",
    "        Node['left'], Node['right'] = leaf(left), leaf(right)\n",
    "        return\n",
    "    \n",
    "    # RECURSION:\n",
    "    ## Left child node: left[1] yields y_left, which a list.\n",
    "    if len(left[0]) <= min_size:\n",
    "        Node['left'] = leaf(left)\n",
    "    else:\n",
    "        Node['left'] = best_split(left[0], left[1])\n",
    "        tree(Node['left'], max_depth, min_size, depth+1)\n",
    "        \n",
    "    ## Process right child\n",
    "    if len(right[1]) <= min_size:\n",
    "        Node['right'] = leaf(right)\n",
    "    else:\n",
    "        Node['right'] = best_split(right[0], right[1])\n",
    "        tree(Node['right'], max_depth, min_size, depth+1)"
   ]
  },
  {
   "cell_type": "code",
   "execution_count": 1406,
   "metadata": {},
   "outputs": [],
   "source": [
    "# Function to build the decision tree\n",
    "def build_tree(X, y, max_depth, min_size):\n",
    "    root = best_split(X, y)\n",
    "    tree(root, max_depth, min_size, 1)\n",
    "    return root"
   ]
  },
  {
   "cell_type": "code",
   "execution_count": 1407,
   "metadata": {},
   "outputs": [],
   "source": [
    "# Function that prints the tree in a pretty manner.\n",
    "def print_tree(d, indent=0):\n",
    "    for key, value in d.items():\n",
    "        print('\\t' * indent + str(key))\n",
    "        if isinstance(value, dict):\n",
    "            print_tree(value, indent+1)\n",
    "        else:\n",
    "            print('\\t' * (indent+1) + str(value))"
   ]
  },
  {
   "cell_type": "code",
   "execution_count": 1408,
   "metadata": {},
   "outputs": [],
   "source": [
    "# Function to make a decision with the tree through tree traversal:\n",
    "def predict(Node, row):\n",
    "    # Recursively traverse the tree\n",
    "    if row[Node['feature']] < Node['threshold']:\n",
    "        if isinstance(Node['left'], dict):\n",
    "            # Go left\n",
    "            return predict(Node['left'], row)\n",
    "        else:\n",
    "            # Base case reached, return the leaf\n",
    "            return Node['left']\n",
    "    else:\n",
    "        if isinstance(Node['right'], dict):\n",
    "            # Go right\n",
    "            return predict(Node['right'], row)\n",
    "        else:\n",
    "            # Base case reached, return the leaf\n",
    "            return Node['right']"
   ]
  },
  {
   "cell_type": "code",
   "execution_count": 1409,
   "metadata": {},
   "outputs": [],
   "source": [
    "# Classification and Regression Tree Algorithm (CART)\n",
    "def cart(X_train, y_train, X_test, y_test, max_depth, min_size):\n",
    "    tree = build_tree(X_train, y_train, max_depth, min_size)\n",
    "    predictions = []\n",
    "    for row in X_test:\n",
    "        prediction = predict(tree, row)\n",
    "        predictions.append(prediction)\n",
    "    return(predictions)"
   ]
  },
  {
   "cell_type": "code",
   "execution_count": 1410,
   "metadata": {},
   "outputs": [
    {
     "name": "stdout",
     "output_type": "stream",
     "text": [
      "feature\n",
      "\t0\n",
      "threshold\n",
      "\t6.642287351\n",
      "left\n",
      "\tfeature\n",
      "\t\t0\n",
      "\tthreshold\n",
      "\t\t2.771244718\n",
      "\tleft\n",
      "\t\t0\n",
      "\tright\n",
      "\t\t0\n",
      "right\n",
      "\tfeature\n",
      "\t\t0\n",
      "\tthreshold\n",
      "\t\t7.497545867\n",
      "\tleft\n",
      "\t\t1\n",
      "\tright\n",
      "\t\t1\n"
     ]
    }
   ],
   "source": [
    "print_tree(build_tree(Xd, yd, 2, 1))"
   ]
  },
  {
   "cell_type": "code",
   "execution_count": 1411,
   "metadata": {},
   "outputs": [
    {
     "name": "stdout",
     "output_type": "stream",
     "text": [
      "1.0\n"
     ]
    }
   ],
   "source": [
    "predictions = cart(Xd, yd, Xd, yd, 1, 1)\n",
    "print(np.sum(predictions==yd)/yd.shape[0])"
   ]
  },
  {
   "cell_type": "markdown",
   "metadata": {},
   "source": [
    "We are now ready to test it on some real data."
   ]
  },
  {
   "cell_type": "code",
   "execution_count": 1412,
   "metadata": {},
   "outputs": [],
   "source": [
    "from sklearn.model_selection import train_test_split\n",
    "from sklearn.metrics import confusion_matrix, f1_score\n",
    "\n",
    "X_train, X_test, y_train, y_test = train_test_split(X, y)"
   ]
  },
  {
   "cell_type": "code",
   "execution_count": 1413,
   "metadata": {},
   "outputs": [
    {
     "name": "stdout",
     "output_type": "stream",
     "text": [
      "[[140  51]\n",
      " [  1 151]]\n",
      "0.8531073446327684\n"
     ]
    }
   ],
   "source": [
    "y_pred = cart(X_train, y_train, X_test, y_test, 5, 10)\n",
    "print(confusion_matrix(y_test, y_pred))\n",
    "print(f1_score(y_test, y_pred))"
   ]
  }
 ],
 "metadata": {
  "kernelspec": {
   "display_name": "Python 3",
   "language": "python",
   "name": "python3"
  },
  "language_info": {
   "codemirror_mode": {
    "name": "ipython",
    "version": 3
   },
   "file_extension": ".py",
   "mimetype": "text/x-python",
   "name": "python",
   "nbconvert_exporter": "python",
   "pygments_lexer": "ipython3",
   "version": "3.7.4"
  }
 },
 "nbformat": 4,
 "nbformat_minor": 4
}
